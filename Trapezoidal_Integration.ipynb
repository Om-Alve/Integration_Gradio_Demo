{
 "cells": [
  {
   "cell_type": "code",
   "execution_count": 9,
   "id": "b09e1c3a-fcb6-40fa-ba44-482cf143767b",
   "metadata": {
    "tags": []
   },
   "outputs": [
    {
     "name": "stdin",
     "output_type": "stream",
     "text": [
      "Enter the equation:  sin(x) * cos(x)\n",
      "Enter the lower limit of integration:  0\n",
      "Enter the upper limit of integration:  2 * 3.14159265359\n"
     ]
    },
    {
     "name": "stdout",
     "output_type": "stream",
     "text": [
      "The definite integral of the function is: 8.55515952694465e-26\n"
     ]
    }
   ],
   "source": [
    "from sympy import symbols, integrate, sympify\n",
    "\n",
    "def calculate_integral(expression_str, lower_limit, upper_limit):\n",
    "    # Define the variable used in the expression\n",
    "    x = symbols('x')\n",
    "    \n",
    "    # Convert the string expression to a sympy expression\n",
    "    expr = sympify(expression_str)\n",
    "    \n",
    "    # Calculate the definite integral\n",
    "    integral = integrate(expr, (x, lower_limit, upper_limit))\n",
    "    \n",
    "    return integral\n",
    "\n",
    "if __name__ == \"__main__\":\n",
    "    # Input the equation, lower and upper limits\n",
    "    expression_str = input(\"Enter the equation: \")\n",
    "    lower_limit = (input(\"Enter the lower limit of integration: \"))\n",
    "    upper_limit = (input(\"Enter the upper limit of integration: \"))\n",
    "    \n",
    "    # Calculate the integral\n",
    "    result = calculate_integral(expression_str, lower_limit, upper_limit)\n",
    "    \n",
    "    # Print the result\n",
    "    print(\"The definite integral of the function is:\", result)\n"
   ]
  },
  {
   "cell_type": "code",
   "execution_count": 4,
   "id": "c2960dab-37be-41f1-9114-8a0328d98892",
   "metadata": {
    "tags": []
   },
   "outputs": [
    {
     "name": "stdout",
     "output_type": "stream",
     "text": [
      "Running on local URL:  http://127.0.0.1:7861\n",
      "\n",
      "To create a public link, set `share=True` in `launch()`.\n"
     ]
    },
    {
     "data": {
      "text/html": [
       "<div><iframe src=\"http://127.0.0.1:7861/\" width=\"100%\" height=\"500\" allow=\"autoplay; camera; microphone; clipboard-read; clipboard-write;\" frameborder=\"0\" allowfullscreen></iframe></div>"
      ],
      "text/plain": [
       "<IPython.core.display.HTML object>"
      ]
     },
     "metadata": {},
     "output_type": "display_data"
    },
    {
     "data": {
      "text/plain": []
     },
     "execution_count": 4,
     "metadata": {},
     "output_type": "execute_result"
    }
   ],
   "source": [
    "import gradio as gr\n",
    "from sympy import symbols, integrate, sympify\n",
    "\n",
    "def calculate_integral(expression_str, lower_limit, upper_limit):\n",
    "    x = symbols('x')\n",
    "    \n",
    "    expr = sympify(expression_str)\n",
    "    \n",
    "    integral = integrate(expr, (x, lower_limit, upper_limit))\n",
    "    \n",
    "    return integral\n",
    "\n",
    "def integral_calculator(expression_str, lower_limit, upper_limit):\n",
    "    result = calculate_integral(expression_str, lower_limit, upper_limit)\n",
    "    return str(result)\n",
    "\n",
    "inputs = [\n",
    "    \"text\",\n",
    "    \"text\",\n",
    "    \"text\",\n",
    "]\n",
    "\n",
    "output = \"text\"\n",
    "\n",
    "gr.Interface(fn=integral_calculator, inputs=inputs, outputs=output, title=\"Integral Calculator\").launch()\n"
   ]
  },
  {
   "cell_type": "code",
   "execution_count": 1,
   "id": "8f957869-a540-4404-aba5-7ef7930c075a",
   "metadata": {
    "tags": []
   },
   "outputs": [
    {
     "ename": "NameError",
     "evalue": "name 'gr' is not defined",
     "output_type": "error",
     "traceback": [
      "\u001b[1;31m---------------------------------------------------------------------------\u001b[0m",
      "\u001b[1;31mNameError\u001b[0m                                 Traceback (most recent call last)",
      "Cell \u001b[1;32mIn[1], line 4\u001b[0m\n\u001b[0;32m      1\u001b[0m \u001b[38;5;28;01mdef\u001b[39;00m \u001b[38;5;21mgreet\u001b[39m(name, intensity):\n\u001b[0;32m      2\u001b[0m     \u001b[38;5;28;01mreturn\u001b[39;00m \u001b[38;5;124m\"\u001b[39m\u001b[38;5;124mHello, \u001b[39m\u001b[38;5;124m\"\u001b[39m \u001b[38;5;241m+\u001b[39m name \u001b[38;5;241m+\u001b[39m \u001b[38;5;124m\"\u001b[39m\u001b[38;5;124m!\u001b[39m\u001b[38;5;124m\"\u001b[39m \u001b[38;5;241m*\u001b[39m \u001b[38;5;28mint\u001b[39m(intensity)\n\u001b[1;32m----> 4\u001b[0m demo \u001b[38;5;241m=\u001b[39m \u001b[43mgr\u001b[49m\u001b[38;5;241m.\u001b[39mInterface(\n\u001b[0;32m      5\u001b[0m     fn\u001b[38;5;241m=\u001b[39mgreet,\n\u001b[0;32m      6\u001b[0m     inputs\u001b[38;5;241m=\u001b[39m[\u001b[38;5;124m\"\u001b[39m\u001b[38;5;124mtext\u001b[39m\u001b[38;5;124m\"\u001b[39m, \u001b[38;5;124m\"\u001b[39m\u001b[38;5;124mslider\u001b[39m\u001b[38;5;124m\"\u001b[39m],\n\u001b[0;32m      7\u001b[0m     outputs\u001b[38;5;241m=\u001b[39m[\u001b[38;5;124m\"\u001b[39m\u001b[38;5;124mtext\u001b[39m\u001b[38;5;124m\"\u001b[39m],\n\u001b[0;32m      8\u001b[0m )\n\u001b[0;32m     10\u001b[0m demo\u001b[38;5;241m.\u001b[39mlaunch()\n",
      "\u001b[1;31mNameError\u001b[0m: name 'gr' is not defined"
     ]
    }
   ],
   "source": [
    "def greet(name, intensity):\n",
    "    return \"Hello, \" + name + \"!\" * int(intensity)\n",
    "\n",
    "demo = gr.Interface(\n",
    "    fn=greet,\n",
    "    inputs=[\"text\", \"slider\"],\n",
    "    outputs=[\"text\"],\n",
    ")\n",
    "\n",
    "demo.launch()"
   ]
  },
  {
   "cell_type": "code",
   "execution_count": null,
   "id": "5ca3e177-6760-4698-8a40-4245a25a3e04",
   "metadata": {},
   "outputs": [],
   "source": []
  }
 ],
 "metadata": {
  "kernelspec": {
   "display_name": "pytorch",
   "language": "python",
   "name": "myenv"
  },
  "language_info": {
   "codemirror_mode": {
    "name": "ipython",
    "version": 3
   },
   "file_extension": ".py",
   "mimetype": "text/x-python",
   "name": "python",
   "nbconvert_exporter": "python",
   "pygments_lexer": "ipython3",
   "version": "3.11.5"
  }
 },
 "nbformat": 4,
 "nbformat_minor": 5
}
